{
 "cells": [
  {
   "cell_type": "code",
   "execution_count": 29,
   "metadata": {},
   "outputs": [],
   "source": [
    "import numpy as np\n",
    "\n",
    "import pandas as pn"
   ]
  },
  {
   "cell_type": "code",
   "execution_count": 32,
   "metadata": {},
   "outputs": [],
   "source": [
    "class node(object):\n",
    "    \n",
    "    def __init__(self, chr: str):\n",
    "        \n",
    "        self.charakter = chr\n",
    "        \n",
    "        self.children = []\n",
    "        \n",
    "        self.worldfinished = false\n",
    "        \n",
    "        self.counter = 0\n",
    "        \n",
    "        \n",
    "    \n",
    "    "
   ]
  },
  {
   "cell_type": "code",
   "execution_count": 33,
   "metadata": {},
   "outputs": [
    {
     "ename": "NameError",
     "evalue": "name 'false' is not defined",
     "output_type": "error",
     "traceback": [
      "\u001b[0;31m---------------------------------------------------------------------------\u001b[0m",
      "\u001b[0;31mNameError\u001b[0m                                 Traceback (most recent call last)",
      "\u001b[0;32m<ipython-input-33-652a199dfc37>\u001b[0m in \u001b[0;36m<module>\u001b[0;34m\u001b[0m\n\u001b[1;32m     52\u001b[0m \u001b[0;31m# make a Trie root to insert the Querys\u001b[0m\u001b[0;34m\u001b[0m\u001b[0;34m\u001b[0m\u001b[0;34m\u001b[0m\u001b[0m\n\u001b[1;32m     53\u001b[0m \u001b[0;34m\u001b[0m\u001b[0m\n\u001b[0;32m---> 54\u001b[0;31m \u001b[0mroot\u001b[0m \u001b[0;34m=\u001b[0m \u001b[0mnode\u001b[0m\u001b[0;34m(\u001b[0m\u001b[0;34m''\u001b[0m\u001b[0;34m)\u001b[0m\u001b[0;34m\u001b[0m\u001b[0;34m\u001b[0m\u001b[0m\n\u001b[0m\u001b[1;32m     55\u001b[0m \u001b[0;34m\u001b[0m\u001b[0m\n\u001b[1;32m     56\u001b[0m \u001b[0madd\u001b[0m\u001b[0;34m(\u001b[0m\u001b[0mroot\u001b[0m\u001b[0;34m,\u001b[0m \u001b[0mAGCT\u001b[0m\u001b[0;34m)\u001b[0m\u001b[0;34m\u001b[0m\u001b[0;34m\u001b[0m\u001b[0m\n",
      "\u001b[0;32m<ipython-input-32-ecc7482e08ec>\u001b[0m in \u001b[0;36m__init__\u001b[0;34m(self, chr)\u001b[0m\n\u001b[1;32m      7\u001b[0m         \u001b[0mself\u001b[0m\u001b[0;34m.\u001b[0m\u001b[0mchildren\u001b[0m \u001b[0;34m=\u001b[0m \u001b[0;34m[\u001b[0m\u001b[0;34m]\u001b[0m\u001b[0;34m\u001b[0m\u001b[0;34m\u001b[0m\u001b[0m\n\u001b[1;32m      8\u001b[0m \u001b[0;34m\u001b[0m\u001b[0m\n\u001b[0;32m----> 9\u001b[0;31m         \u001b[0mself\u001b[0m\u001b[0;34m.\u001b[0m\u001b[0mworldfinished\u001b[0m \u001b[0;34m=\u001b[0m \u001b[0mfalse\u001b[0m\u001b[0;34m\u001b[0m\u001b[0;34m\u001b[0m\u001b[0m\n\u001b[0m\u001b[1;32m     10\u001b[0m \u001b[0;34m\u001b[0m\u001b[0m\n\u001b[1;32m     11\u001b[0m         \u001b[0mself\u001b[0m\u001b[0;34m.\u001b[0m\u001b[0mcounter\u001b[0m \u001b[0;34m=\u001b[0m \u001b[0;36m0\u001b[0m\u001b[0;34m\u001b[0m\u001b[0;34m\u001b[0m\u001b[0m\n",
      "\u001b[0;31mNameError\u001b[0m: name 'false' is not defined"
     ]
    }
   ],
   "source": [
    "class Trie(object):\n",
    "\n",
    "    def __init__(self):\n",
    "\n",
    "   #init the root node\n",
    "        self.root = node(\"\")\n",
    "    #insert words in the trie\n",
    "        def insert(self, word):\n",
    "            node = self.root\n",
    "        \n",
    "# adding a wort to the Trie\n",
    "\n",
    "def add(root, query: str):\n",
    "    \n",
    "    node = root\n",
    "    \n",
    "    for character in query:\n",
    "        \n",
    "        foundInChildren = false\n",
    "        \n",
    "        #going down the trie to insert a character\n",
    "        \n",
    "        for child in node.children:\n",
    "        \n",
    "            # First Case: Found the Charakter. So we do not insert the charakter to the trie.\n",
    "        \n",
    "            if child.character == char:\n",
    "            \n",
    "                child.counter +=1\n",
    "            \n",
    "                node = children\n",
    "            \n",
    "                foundInChildren = true\n",
    "            \n",
    "            \n",
    "            if child.character != char:\n",
    "            \n",
    "                newNode = node(char)\n",
    "            \n",
    "                node.children.append(newNode)\n",
    "                \n",
    "        \n",
    "    node.wordfinished = true\n",
    "        \n",
    "\n",
    "\n",
    "\n",
    "# searchin in a trie\n",
    "\n",
    "\n",
    "\n",
    "# make a Trie root to insert the Querys\n",
    "\n",
    "root = node('')\n",
    "\n",
    "add(root, AGCT)\n",
    "add(root, GGCC)\n",
    "add(root, GGTACC)\n",
    "add(root, GGTACC)\n",
    "add(root, TCGA)"
   ]
  },
  {
   "cell_type": "markdown",
   "metadata": {},
   "source": [
    "|Name | Sequence| \n",
    "|-----|---------|\n",
    "|AluI | AGCT|\n",
    "|HaeIII| GGCC|\n",
    "|KpnI | GGTACC| \n",
    "|SacI | GAGCTC| \n",
    "|TaqI | TCGA|"
   ]
  },
  {
   "cell_type": "code",
   "execution_count": 30,
   "metadata": {},
   "outputs": [],
   "source": [
    "sequences = np.array([\"AGCT\", \"GGCC\", \"GGTACC\", \"GAGCTC\", \"TCGA\"])\n",
    "\n",
    "alphabet = np.array([\"A\", \"T\", \"C\",\"G\"])\n",
    "\n",
    "Text = \"TCTCTCGAGCTCTG\"\n",
    "\n",
    "\n",
    "\n",
    "def Horspool(sequence, text):\n",
    "    \n",
    "    #Preprocessing:\n",
    "    \n",
    "    distance = []\n",
    "    \n",
    "    for c in range(4):\n",
    "    \n",
    "        distance.append(len(sequence))\n",
    "\n",
    "    \n",
    "    for k in range(len(sequence)-1):\n",
    "    \n",
    "        distance[sequence[k]] = sequence - k - 1\n",
    "        distance = tuple(distance)\n",
    "        k = m - 1\n",
    "\n",
    "    while k < n:\n",
    "        \n",
    "        i = k\n",
    "        \n",
    "        j = m - 1\n",
    "        \n",
    "    while j >= 0 and text[i] == pattern[j]:\n",
    "        \n",
    "        i -= 1\n",
    "        \n",
    "        j -= 1 \n",
    "        \n",
    "        \n",
    "        if j == -1: \n",
    "            \n",
    "            return i + 1\n",
    "        \n",
    "            k += skip[ord(text[k])]\n",
    "            \n",
    "            \n",
    "    return -1\n",
    "        "
   ]
  },
  {
   "cell_type": "code",
   "execution_count": 31,
   "metadata": {},
   "outputs": [
    {
     "ename": "TypeError",
     "evalue": "unsupported operand type(s) for -: 'numpy.str_' and 'int'",
     "output_type": "error",
     "traceback": [
      "\u001b[0;31m---------------------------------------------------------------------------\u001b[0m",
      "\u001b[0;31mTypeError\u001b[0m                                 Traceback (most recent call last)",
      "\u001b[0;32m<ipython-input-31-0c078e4994b3>\u001b[0m in \u001b[0;36m<module>\u001b[0;34m\u001b[0m\n\u001b[1;32m      1\u001b[0m \u001b[0;32mfor\u001b[0m \u001b[0mc\u001b[0m \u001b[0;32min\u001b[0m \u001b[0msequences\u001b[0m\u001b[0;34m:\u001b[0m\u001b[0;34m\u001b[0m\u001b[0;34m\u001b[0m\u001b[0m\n\u001b[0;32m----> 2\u001b[0;31m     \u001b[0mHorspool\u001b[0m\u001b[0;34m(\u001b[0m\u001b[0mc\u001b[0m\u001b[0;34m,\u001b[0m \u001b[0mText\u001b[0m\u001b[0;34m)\u001b[0m\u001b[0;34m\u001b[0m\u001b[0;34m\u001b[0m\u001b[0m\n\u001b[0m\u001b[1;32m      3\u001b[0m \u001b[0;34m\u001b[0m\u001b[0m\n",
      "\u001b[0;32m<ipython-input-30-4fdedac4938f>\u001b[0m in \u001b[0;36mHorspool\u001b[0;34m(sequence, text)\u001b[0m\n\u001b[1;32m     20\u001b[0m     \u001b[0;32mfor\u001b[0m \u001b[0mk\u001b[0m \u001b[0;32min\u001b[0m \u001b[0mrange\u001b[0m\u001b[0;34m(\u001b[0m\u001b[0mlen\u001b[0m\u001b[0;34m(\u001b[0m\u001b[0msequence\u001b[0m\u001b[0;34m)\u001b[0m\u001b[0;34m-\u001b[0m\u001b[0;36m1\u001b[0m\u001b[0;34m)\u001b[0m\u001b[0;34m:\u001b[0m\u001b[0;34m\u001b[0m\u001b[0;34m\u001b[0m\u001b[0m\n\u001b[1;32m     21\u001b[0m \u001b[0;34m\u001b[0m\u001b[0m\n\u001b[0;32m---> 22\u001b[0;31m         \u001b[0mdistance\u001b[0m\u001b[0;34m[\u001b[0m\u001b[0msequence\u001b[0m\u001b[0;34m[\u001b[0m\u001b[0mk\u001b[0m\u001b[0;34m]\u001b[0m\u001b[0;34m]\u001b[0m \u001b[0;34m=\u001b[0m \u001b[0msequence\u001b[0m \u001b[0;34m-\u001b[0m \u001b[0mk\u001b[0m \u001b[0;34m-\u001b[0m \u001b[0;36m1\u001b[0m\u001b[0;34m\u001b[0m\u001b[0;34m\u001b[0m\u001b[0m\n\u001b[0m\u001b[1;32m     23\u001b[0m         \u001b[0mdistance\u001b[0m \u001b[0;34m=\u001b[0m \u001b[0mtuple\u001b[0m\u001b[0;34m(\u001b[0m\u001b[0mdistance\u001b[0m\u001b[0;34m)\u001b[0m\u001b[0;34m\u001b[0m\u001b[0;34m\u001b[0m\u001b[0m\n\u001b[1;32m     24\u001b[0m         \u001b[0mk\u001b[0m \u001b[0;34m=\u001b[0m \u001b[0mm\u001b[0m \u001b[0;34m-\u001b[0m \u001b[0;36m1\u001b[0m\u001b[0;34m\u001b[0m\u001b[0;34m\u001b[0m\u001b[0m\n",
      "\u001b[0;31mTypeError\u001b[0m: unsupported operand type(s) for -: 'numpy.str_' and 'int'"
     ]
    }
   ],
   "source": [
    "for c in sequences:\n",
    "    Horspool(c, Text)\n",
    "    "
   ]
  },
  {
   "cell_type": "code",
   "execution_count": null,
   "metadata": {},
   "outputs": [],
   "source": [
    "\n",
    "\n"
   ]
  },
  {
   "cell_type": "markdown",
   "metadata": {},
   "source": [
    "Class that construct a trie node.\n"
   ]
  },
  {
   "cell_type": "markdown",
   "metadata": {},
   "source": [
    "Construction of a trie with the node constructor."
   ]
  },
  {
   "cell_type": "code",
   "execution_count": null,
   "metadata": {},
   "outputs": [],
   "source": []
  },
  {
   "cell_type": "markdown",
   "metadata": {},
   "source": [
    "Task 3\n",
    "\n",
    "The constructed tree of the word whakapapa is shown in the below picture.\n",
    "\n",
    "![](suffixtree.png)"
   ]
  },
  {
   "cell_type": "markdown",
   "metadata": {},
   "source": [
    "Task 4\n",
    "\n",
    "So for searching in a suffixtree you have to do following steps.\n",
    "\n",
    "1. Start at the root of the tree and the first character of the pattern travers down the tree of all following characters if a edge exist for the characters.\n",
    "\n",
    "2. If there is no match. Print a errow massage, like \" There is no pattern in the suffixtree\"\n",
    "\n",
    "3. If all characters of pattern have been processed, there must be a path from the root of the tree with the given pattern, then print “Pattern found, and or the possition in the text”."
   ]
  },
  {
   "cell_type": "code",
   "execution_count": null,
   "metadata": {},
   "outputs": [],
   "source": []
  },
  {
   "cell_type": "code",
   "execution_count": null,
   "metadata": {},
   "outputs": [],
   "source": []
  }
 ],
 "metadata": {
  "kernelspec": {
   "display_name": "Python 3",
   "language": "python",
   "name": "python3"
  },
  "language_info": {
   "codemirror_mode": {
    "name": "ipython",
    "version": 3
   },
   "file_extension": ".py",
   "mimetype": "text/x-python",
   "name": "python",
   "nbconvert_exporter": "python",
   "pygments_lexer": "ipython3",
   "version": "3.7.6"
  }
 },
 "nbformat": 4,
 "nbformat_minor": 4
}
