{
 "cells": [
  {
   "cell_type": "code",
   "execution_count": 37,
   "metadata": {},
   "outputs": [],
   "source": [
    "import numpy as np\n",
    "\n",
    "import pandas as pn"
   ]
  },
  {
   "cell_type": "markdown",
   "metadata": {},
   "source": [
    "|Name | Sequence| \n",
    "|-----|---------|\n",
    "|AluI | AGCT|\n",
    "|HaeIII| GGCC|\n",
    "|KpnI | GGTACC| \n",
    "|SacI | GAGCTC| \n",
    "|TaqI | TCGA|"
   ]
  },
  {
   "cell_type": "code",
   "execution_count": 38,
   "metadata": {},
   "outputs": [],
   "source": [
    "sequences = np.array([\"AGCT\", \"GGCC\", \"GGTACC\", \"GAGCTC\", \"TCGA\"])\n",
    "\n",
    "alphabet = np.array([\"A\", \"T\", \"C\",\"G\"])\n",
    "\n",
    "Text = \"TCTCTCGAGCTCTG\""
   ]
  },
  {
   "cell_type": "code",
   "execution_count": 39,
   "metadata": {},
   "outputs": [],
   "source": [
    "class node(object):\n",
    "    \n",
    "    def __init__(self, chr: str):\n",
    "        \n",
    "        self.charakter = chr\n",
    "        \n",
    "        self.children = []\n",
    "        \n",
    "        self.worldfinished = False\n",
    "        \n",
    "        self.counter = 0\n",
    "        \n",
    "        \n",
    "    \n",
    "    "
   ]
  },
  {
   "cell_type": "code",
   "execution_count": 46,
   "metadata": {},
   "outputs": [
    {
     "name": "stdout",
     "output_type": "stream",
     "text": [
      "<class '__main__.Trie'>\n"
     ]
    }
   ],
   "source": [
    "class Trie(object):\n",
    "\n",
    "    def __init__(self):\n",
    "\n",
    "   #init the root node\n",
    "        self.root = node(\"\")\n",
    "    #insert words in the trie\n",
    "        def insert(self, word):\n",
    "            node = self.root\n",
    "        \n",
    "# adding a wort to the Trie\n",
    "\n",
    "def add(root, query: str):\n",
    "    \n",
    "    node = root\n",
    "    \n",
    "    for character in query:\n",
    "        \n",
    "        foundInChildren = False\n",
    "        \n",
    "        #going down the trie to insert a character\n",
    "        \n",
    "        for child in node.children:\n",
    "        \n",
    "            # First Case: Found the Charakter. So we do not insert the charakter to the trie.\n",
    "        \n",
    "            if child.character == char:\n",
    "            \n",
    "                child.counter +=1\n",
    "            \n",
    "                node = children\n",
    "            \n",
    "                foundInChildren = True\n",
    "            \n",
    "            \n",
    "            if child.character != char:\n",
    "            \n",
    "                newNode = node(char)\n",
    "            \n",
    "                node.children.append(newNode)\n",
    "                \n",
    "        \n",
    "    node.wordfinished = True\n",
    "        \n",
    "\n",
    "\n",
    "\n",
    "# searchin in a trie\n",
    "\n",
    "\n",
    "\n",
    "# make a Trie root to insert the Querys\n",
    "\n",
    "root = node('')\n",
    "\n",
    "add(root, sequences[0])\n",
    "add(root, sequences[1])\n",
    "add(root, sequences[2])\n",
    "add(root, sequences[3])\n",
    "add(root, sequences[4])"
   ]
  },
  {
   "cell_type": "code",
   "execution_count": 45,
   "metadata": {},
   "outputs": [],
   "source": [
    "def Horspool(sequence, text):\n",
    "    \n",
    "    #Preprocessing:\n",
    "    \n",
    "    distance = []\n",
    "    \n",
    "    for c in range(4):\n",
    "    \n",
    "        distance.append(len(sequence))\n",
    "\n",
    "    \n",
    "    for k in range(len(sequence)-1):\n",
    "    \n",
    "        distance[sequence[k]] = sequence - k - 1\n",
    "        distance = tuple(distance)\n",
    "        k = m - 1\n",
    "\n",
    "    while k < n:\n",
    "        \n",
    "        i = k\n",
    "        \n",
    "        j = m - 1\n",
    "        \n",
    "    while j >= 0 and text[i] == pattern[j]:\n",
    "        \n",
    "        i -= 1\n",
    "        \n",
    "        j -= 1 \n",
    "        \n",
    "        \n",
    "        if j == -1: \n",
    "            \n",
    "            return i + 1\n",
    "        \n",
    "            k += distance[ord(text[k])]\n",
    "            \n",
    "            \n",
    "    return -1\n",
    "\n",
    "        "
   ]
  },
  {
   "cell_type": "code",
   "execution_count": 47,
   "metadata": {},
   "outputs": [],
   "source": [
    "# Set Horspool algorithm\n",
    "\n",
    "def Horspool(arrayOfSequence, text):\n",
    "    \n",
    "    for c in arrayOfSequence:\n",
    "        Horspool(arrayOfSequence(c), text)\n",
    "        \n",
    "    \n",
    "    \n",
    "    "
   ]
  },
  {
   "cell_type": "markdown",
   "metadata": {},
   "source": [
    "Task 3\n",
    "\n",
    "The constructed tree of the word whakapapa is shown in the below picture.\n",
    "\n",
    "![](suffixtree.png)"
   ]
  },
  {
   "cell_type": "markdown",
   "metadata": {},
   "source": [
    "Task 4\n",
    "\n",
    "So for searching in a suffixtree you have to do following steps.\n",
    "\n",
    "1. Start at the root of the tree and the first character of the pattern travers down the tree of all following characters if a edge exist for the characters.\n",
    "\n",
    "2. If there is no match. Print a errow massage, like \" There is no pattern in the suffixtree\"\n",
    "\n",
    "3. If all characters of pattern have been processed, there must be a path from the root of the tree with the given pattern, then print “Pattern found, and or the possition in the text”."
   ]
  }
 ],
 "metadata": {
  "kernelspec": {
   "display_name": "Python 3",
   "language": "python",
   "name": "python3"
  },
  "language_info": {
   "codemirror_mode": {
    "name": "ipython",
    "version": 3
   },
   "file_extension": ".py",
   "mimetype": "text/x-python",
   "name": "python",
   "nbconvert_exporter": "python",
   "pygments_lexer": "ipython3",
   "version": "3.7.6"
  }
 },
 "nbformat": 4,
 "nbformat_minor": 4
}
