{
 "cells": [
  {
   "cell_type": "code",
   "execution_count": 1,
   "metadata": {},
   "outputs": [],
   "source": [
    "import numpy as np\n",
    "#import pandas as pd"
   ]
  },
  {
   "cell_type": "code",
   "execution_count": 2,
   "metadata": {},
   "outputs": [],
   "source": [
    "# convert a list of sequences into the corresponding graph matrix\n",
    "def to_graph(seqs):\n",
    "    num_nodes = sum([len(s) for s in seqs])\n",
    "    m = np.array([[0] * num_nodes] * num_nodes)\n",
    "    i = 0 # indicates where the current seq starts\n",
    "    for s in seqs:\n",
    "        l = len(s)\n",
    "        \n",
    "        # implement directed edges between nodes of same seq\n",
    "        for j in range(i, i + l - 1):\n",
    "            m[j][j+1] = 1\n",
    "        \n",
    "        # implement undirected edges between nodes of s and all other nodes\n",
    "        for j in range(i, i + l):\n",
    "            for k in range(num_nodes):\n",
    "                if (k < i or k >= i + l):\n",
    "                    m[j][k] = 1\n",
    "                    m[k][j] = 1\n",
    "        \n",
    "        i += l\n",
    "    return m\n",
    "\n",
    "# return number of paths between two nodes (given as indices) in given graph matrix\n",
    "# start from end, iterate over all nodes that have an edge to the current node and \n",
    "# have not been visited yet. If one is the start node, we have found a path.\n",
    "def num_paths(start, end, m, print_path = False, N = set()):\n",
    "    if (N == set()):\n",
    "        N = set(range(len(m))) # set of all nodes\n",
    "    if (print_path): \n",
    "        # set of all nodes to inspect, which nodes have not been visited, and which nodes have been visited in order\n",
    "        S = {(end, frozenset(N - {end}), tuple([end]))}\n",
    "    else:\n",
    "        S = {(end, frozenset(N - {end}))} # set of all nodes to inspect and which nodes have not been visited\n",
    "    count = 0\n",
    "    while S: # S is not empty\n",
    "        s = S.pop()\n",
    "        for n in s[1]:\n",
    "            if (m[n][s[0]] and n == start):\n",
    "                count += 1\n",
    "                if (print_path):\n",
    "                    print((s[2] + tuple([n]))[::-1])\n",
    "            elif (m[n][s[0]]): #exists edge from n to curr node s[0]\n",
    "                if (print_path):\n",
    "                    S |= {(n, frozenset(s[1] - {s[0]}), s[2] + tuple([n]))}\n",
    "                else:\n",
    "                    S |= {(n, frozenset(s[1] - {s[0]}))}\n",
    "    return count"
   ]
  },
  {
   "cell_type": "code",
   "execution_count": 3,
   "metadata": {},
   "outputs": [
    {
     "name": "stdout",
     "output_type": "stream",
     "text": [
      "48\n"
     ]
    }
   ],
   "source": [
    "seqs = ['CATG', 'CAGT', 'AGTT']\n",
    "m = to_graph(seqs)\n",
    "\n",
    "# undirected edges = edges betwwen nucleotides in different sequences\n",
    "undir = 0\n",
    "for i in range(len(m)):\n",
    "    for j in range(len(m)):\n",
    "        if (m[i][j] == 1 and m[j][i] == 1):\n",
    "            undir += 1\n",
    "undir = int(undir / 2)\n",
    "print(undir) # is correct"
   ]
  },
  {
   "cell_type": "code",
   "execution_count": 8,
   "metadata": {},
   "outputs": [
    {
     "name": "stdout",
     "output_type": "stream",
     "text": [
      "(0, 1, 2)\n",
      "(0, 1, 4, 3, 2)\n",
      "(0, 1, 3, 2)\n",
      "Number of paths from A to C: 3\n",
      "Number of mixed cycles for two sequences AB and CD: 6\n"
     ]
    }
   ],
   "source": [
    "m  = np.array([[0,1,0,0,0], [0,0,1,1,1], [0,0,0,1,0], [1,1,1,0,1], [0,1,0,1,0]])\n",
    "print('Number of paths from A to C: {}'.format(num_paths(0,2,m,True))) # Is correct!\n",
    "\n",
    "# count mixed cycles:\n",
    "# start with a directed edge, then calc # of paths from end of the directed edge to its start\n",
    "# for two sequences with 2 letters, for which I counted 6 mixed cycles per hand\n",
    "m = np.array([[0,1,1,1], [0,0,1,1], [1,1,0,1], [1,1,0,0]]) \n",
    "dir_edges = set()\n",
    "for i in range(len(m)):\n",
    "    for j in range(len(m)):\n",
    "        if (m[i][j] == 1 and m[j][i] != 1):\n",
    "            dir_edges |= {(i,j)}\n",
    "            \n",
    "count = 0\n",
    "for e in dir_edges:\n",
    "    count += num_paths(e[1],e[0],m)\n",
    "print('Number of mixed cycles for two sequences AB and CD: {}'.format(count))"
   ]
  },
  {
   "cell_type": "code",
   "execution_count": 5,
   "metadata": {},
   "outputs": [],
   "source": [
    "# Now simple mixed cylces: \n",
    "# start with any combination of directed edges that are connected, then calc # of paths from end to start,\n",
    "# while excluding the directed edges from that sequence\n",
    "# but we still have to prevent that the algorithm visits the other sequences multiple times..."
   ]
  }
 ],
 "metadata": {
  "kernelspec": {
   "display_name": "Python 3",
   "language": "python",
   "name": "python3"
  },
  "language_info": {
   "codemirror_mode": {
    "name": "ipython",
    "version": 3
   },
   "file_extension": ".py",
   "mimetype": "text/x-python",
   "name": "python",
   "nbconvert_exporter": "python",
   "pygments_lexer": "ipython3",
   "version": "3.7.6"
  }
 },
 "nbformat": 4,
 "nbformat_minor": 4
}
