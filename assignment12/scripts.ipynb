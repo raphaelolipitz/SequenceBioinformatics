{
 "cells": [
  {
   "cell_type": "code",
   "execution_count": 12,
   "metadata": {},
   "outputs": [
    {
     "name": "stdout",
     "output_type": "stream",
     "text": [
      "2.5928571428571425\n",
      "[1, 2, 3, 4, 5, 6, 7]\n"
     ]
    }
   ],
   "source": [
    "#1\n",
    "print(sum([1/i for i in range(1,8)]))\n",
    "print(list(range(1,8)))"
   ]
  },
  {
   "cell_type": "code",
   "execution_count": 21,
   "metadata": {},
   "outputs": [
    {
     "name": "stdout",
     "output_type": "stream",
     "text": [
      "2.5928571428571425 1.511797052154195 0.42857142857142855 0.2976190476190476 0.0428964974419519 0.0403978667815382 0.016544103696620568 0.004905806064058387\n",
      "0.760156369661736\n"
     ]
    }
   ],
   "source": [
    "#2\n",
    "import math\n",
    "\n",
    "def D(Tpi, TW, S):\n",
    "    return (Tpi - TW)/math.sqrt(e1*S + e2*S*(S-1))\n",
    "    \n",
    "n = 8\n",
    "\n",
    "a1 = sum([1/i for i in range(1,n)]) # only ranges until n-1\n",
    "a2 = sum([1/(i**2) for i in range(1,n)])\n",
    "b1 = (n+1)/(3*(n-1))\n",
    "b2 = (2*(n**2 + n + 3))/(9*n*(n-1))\n",
    "c1 = b1 - (1/a1)\n",
    "c2 = b2 - (n+2)/(a1*n) + a2/(a1**2)\n",
    "e1 = c1/a1\n",
    "e2 = c2/(a1**2 + a2)\n",
    "print(a1,a2,b1,b2,c1,c2,e1,e2)\n",
    "print(D(3.57, 3.085, 8))"
   ]
  },
  {
   "cell_type": "code",
   "execution_count": 23,
   "metadata": {},
   "outputs": [
    {
     "name": "stdout",
     "output_type": "stream",
     "text": [
      "0.29255830435279523\n",
      "0.2734497664558798\n"
     ]
    }
   ],
   "source": [
    "#5\n",
    "\n",
    "def D(Tpi, TW, S):\n",
    "    return (Tpi - TW)/math.sqrt(e1*S + e2*S*(S-1))\n",
    "    \n",
    "n = 5\n",
    "S = 4\n",
    "Tpi = 2\n",
    "TW = 1.92\n",
    "\n",
    "a1 = sum([1/i for i in range(1,n)]) # only ranges until n-1\n",
    "a2 = sum([1/(i**2) for i in range(1,n)])\n",
    "b1 = (n+1)/(3*(n-1))\n",
    "b2 = (2*(n**2 + n + 3))/(9*n*(n-1))\n",
    "c1 = b1 - (1/a1)\n",
    "c2 = b2 - (n+2)/(a1*n) + a2/(a1**2)\n",
    "e1 = c1/a1\n",
    "e2 = c2/(a1**2 + a2)\n",
    "print(math.sqrt(e1*S + e2*S*(S-1)))\n",
    "print(D(Tpi,TW,S))"
   ]
  },
  {
   "cell_type": "code",
   "execution_count": 10,
   "metadata": {},
   "outputs": [
    {
     "data": {
      "text/plain": [
       "Fraction(363, 140)"
      ]
     },
     "execution_count": 10,
     "metadata": {},
     "output_type": "execute_result"
    }
   ],
   "source": [
    "import fractions\n",
    "fractions.Fraction(2.5928571428571425).limit_denominator(420)"
   ]
  }
 ],
 "metadata": {
  "kernelspec": {
   "display_name": "Python 3",
   "language": "python",
   "name": "python3"
  },
  "language_info": {
   "codemirror_mode": {
    "name": "ipython",
    "version": 3
   },
   "file_extension": ".py",
   "mimetype": "text/x-python",
   "name": "python",
   "nbconvert_exporter": "python",
   "pygments_lexer": "ipython3",
   "version": "3.8.5"
  }
 },
 "nbformat": 4,
 "nbformat_minor": 4
}
